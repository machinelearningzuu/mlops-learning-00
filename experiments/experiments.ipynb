{
 "cells": [
  {
   "cell_type": "code",
   "execution_count": 3,
   "metadata": {},
   "outputs": [],
   "source": [
    "import json\n",
    "import pandas as pd\n",
    "from pymongo.mongo_client import MongoClient"
   ]
  },
  {
   "cell_type": "code",
   "execution_count": 4,
   "metadata": {},
   "outputs": [],
   "source": [
    "uri = \"\"\n",
    "client = MongoClient(uri)\n",
    "\n",
    "database=client[\"mongoconnect\"]\n",
    "collection=database[\"session\"]"
   ]
  },
  {
   "cell_type": "code",
   "execution_count": 5,
   "metadata": {},
   "outputs": [],
   "source": [
    "data = {\n",
    "        \"coursename\":\"genai\",\n",
    "        \"instrutorname\":\"sunny\",\n",
    "        \"modeofsession\":\"english\"\n",
    "        }"
   ]
  },
  {
   "cell_type": "code",
   "execution_count": 6,
   "metadata": {},
   "outputs": [
    {
     "data": {
      "text/plain": [
       "InsertOneResult(ObjectId('6617c48c4d2b0e531ff9ea34'), acknowledged=True)"
      ]
     },
     "execution_count": 6,
     "metadata": {},
     "output_type": "execute_result"
    }
   ],
   "source": [
    "collection.insert_one(data)"
   ]
  },
  {
   "cell_type": "code",
   "execution_count": 7,
   "metadata": {},
   "outputs": [
    {
     "name": "stdout",
     "output_type": "stream",
     "text": [
      "{'_id': ObjectId('6617c48c4d2b0e531ff9ea34'), 'coursename': 'genai', 'instrutorname': 'sunny', 'modeofsession': 'english'}\n"
     ]
    }
   ],
   "source": [
    "all_record=collection.find()\n",
    "for record in all_record:\n",
    "    print(record)"
   ]
  },
  {
   "cell_type": "code",
   "execution_count": 8,
   "metadata": {},
   "outputs": [
    {
     "data": {
      "text/plain": [
       "InsertManyResult([ObjectId('6617c4904d2b0e531ff9ea35'), ObjectId('6617c4904d2b0e531ff9ea36')], acknowledged=True)"
      ]
     },
     "execution_count": 8,
     "metadata": {},
     "output_type": "execute_result"
    }
   ],
   "source": [
    "collection.insert_many(\n",
    "                        [\n",
    "                            {\n",
    "\n",
    "                        \"coursename\":\"genai\",\n",
    "                        \"instrutorname\":\"sunny\",\n",
    "                        \"modeofsession\":\"english\"\n",
    "                    },\n",
    "\n",
    "                    {\n",
    "\n",
    "                        \"coursename\":\"mlops\",\n",
    "                        \"instrutorname\":\"sunnysavita\",\n",
    "                        \"modeofsession\":\"english&hindi\"\n",
    "                    }\n",
    "                            \n",
    "                        ]\n",
    "                    )"
   ]
  },
  {
   "cell_type": "code",
   "execution_count": 9,
   "metadata": {},
   "outputs": [
    {
     "name": "stdout",
     "output_type": "stream",
     "text": [
      "{'_id': ObjectId('6617c48c4d2b0e531ff9ea34'), 'coursename': 'genai', 'instrutorname': 'sunny', 'modeofsession': 'english'}\n",
      "{'_id': ObjectId('6617c4904d2b0e531ff9ea35'), 'coursename': 'genai', 'instrutorname': 'sunny', 'modeofsession': 'english'}\n",
      "{'_id': ObjectId('6617c4904d2b0e531ff9ea36'), 'coursename': 'mlops', 'instrutorname': 'sunnysavita', 'modeofsession': 'english&hindi'}\n"
     ]
    }
   ],
   "source": [
    "all_record=collection.find()\n",
    "for record in all_record:\n",
    "    print(record)"
   ]
  },
  {
   "cell_type": "code",
   "execution_count": 12,
   "metadata": {},
   "outputs": [],
   "source": [
    "class mongodb_operation:\n",
    "    def __init__(\n",
    "                self,\n",
    "                client_url: str, \n",
    "                database_name: str, \n",
    "                collection_name: str=None\n",
    "                ):\n",
    "        self.client_url=client_url\n",
    "        self.database_name=database_name\n",
    "        self.collection_name=collection_name\n",
    "\n",
    "    def create_client(self):\n",
    "        client=MongoClient(self.client_url)\n",
    "        return client\n",
    "\n",
    "    def create_database(self):\n",
    "        client=self.create_client()\n",
    "        database=client[self.database_name]\n",
    "        return database\n",
    "        \n",
    "    def create_collection(\n",
    "                        self,\n",
    "                        collection=None\n",
    "                        ):\n",
    "        database=self.create_database()\n",
    "        collection=database[collection]\n",
    "        return collection\n",
    "\n",
    "    def insert_record(\n",
    "                    self,\n",
    "                    record:dict,\n",
    "                    collection_name:str\n",
    "                    ):\n",
    "        if type(record)==list:\n",
    "            for data in record:\n",
    "                if type(data)!= dict:\n",
    "                    raise TypeError(\"record must be in the dict\")\n",
    "            collection=self.create_collection(collection_name)\n",
    "            collection.insert_many(record)\n",
    "\n",
    "        elif type(record)==dict:\n",
    "            collection=self.create_collection(collection_name)\n",
    "            collection.insert_one(record)\n",
    "\n",
    "    def bulk_insert(\n",
    "                    self,\n",
    "                    datafile:str,\n",
    "                    collection_name:str=None\n",
    "                    ):\n",
    "        self.path=datafile\n",
    "\n",
    "        if self.path.endswith('.csv'):\n",
    "            data=pd.read_csv(self.path,encoding='utf-8')\n",
    "\n",
    "        elif self.path.endswith('.xlsx'):\n",
    "            data=pd.read_excel(self.path,encoding='utf-8')\n",
    "            \n",
    "        datajson=json.loads(data.to_json(orient='record'))\n",
    "        collection=self.create_collection(collection_name)\n",
    "        collection.insert_many(datajson)"
   ]
  },
  {
   "cell_type": "code",
   "execution_count": 13,
   "metadata": {},
   "outputs": [],
   "source": [
    "client_url =  \"\"   # I have created a demo connection for you to understand. You can use your own.\n",
    "database = \"mongoconnectnew\"\n",
    "collection_name = \"session\""
   ]
  },
  {
   "cell_type": "code",
   "execution_count": 14,
   "metadata": {},
   "outputs": [],
   "source": [
    "mongo=mongodb_operation(client_url,database,collection_name)"
   ]
  },
  {
   "cell_type": "code",
   "execution_count": 15,
   "metadata": {},
   "outputs": [],
   "source": [
    "mongo.insert_record(\n",
    "                    {\n",
    "                    \"name\":\"sunny\",\n",
    "                    \"designation\":\"data scientist\",\n",
    "                    \"salary\":\"10k\"\n",
    "                    },\n",
    "                    collection_name\n",
    "                    )"
   ]
  },
  {
   "cell_type": "code",
   "execution_count": 16,
   "metadata": {},
   "outputs": [],
   "source": [
    "mongo.insert_record([{\"name\":\"sunny\",\"designation\":\"data scientist\",\"salary\":\"10k\"},\n",
    "{\"name\":\"sudhanshu\",\"designation\":\"sr. data scientist\",\"salary\":\"150k\"},\n",
    "{\"name\":\"krish\",\"designation\":\"lead data scientist\",\"salary\":\"70k\"}\n",
    "],collection_name)"
   ]
  },
  {
   "cell_type": "code",
   "execution_count": null,
   "metadata": {},
   "outputs": [],
   "source": []
  }
 ],
 "metadata": {
  "kernelspec": {
   "display_name": "Python 3.8.10 64-bit",
   "language": "python",
   "name": "python3"
  },
  "language_info": {
   "codemirror_mode": {
    "name": "ipython",
    "version": 3
   },
   "file_extension": ".py",
   "mimetype": "text/x-python",
   "name": "python",
   "nbconvert_exporter": "python",
   "pygments_lexer": "ipython3",
   "version": "3.10.14"
  },
  "orig_nbformat": 4,
  "vscode": {
   "interpreter": {
    "hash": "e7370f93d1d0cde622a1f8e1c04877d8463912d04d973331ad4851f04de6915a"
   }
  }
 },
 "nbformat": 4,
 "nbformat_minor": 2
}
